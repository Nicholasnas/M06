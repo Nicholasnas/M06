{
  "cells": [
    {
      "cell_type": "markdown",
      "id": "b16fb5f3",
      "metadata": {
        "id": "b16fb5f3"
      },
      "source": [
        "## Nome: Nicholas Lima do Nascimento\n",
        "## Matricula: 697\n"
      ]
    },
    {
      "cell_type": "markdown",
      "id": "49f05b5a",
      "metadata": {
        "id": "49f05b5a"
      },
      "source": [
        "---"
      ]
    },
    {
      "cell_type": "markdown",
      "id": "53b490c0",
      "metadata": {
        "id": "53b490c0"
      },
      "source": [
        "## **Atividade 4** – Zeros de Funções: Refinamento de Raízes Reais pelo Método de Newton–Raphson\n",
        "\n",
        "**Objetivo:** neste notebook, você irá **aplicar o método de Newton–Raphson** e **refinar raízes reais** em problemas contextualizados.  \n",
        "Você encontrará **códigos-base, imports e células-guia** para implementar o método, analisar convergência e responder às questões propostas.\n",
        "\n",
        "Material de apoio:\n",
        "* https://youtu.be/gpaXPYKDWJg?si=1yG79BmrI7GQgzXY\n",
        "* https://flexiple.com/python/newton-raphson-method-python\n",
        "\n",
        "> Importante: execute as células na ordem. Se precisar, reinicie o kernel e rode tudo novamente.\n",
        "\n"
      ]
    },
    {
      "cell_type": "markdown",
      "id": "iUmYwz2t2bSi",
      "metadata": {
        "id": "iUmYwz2t2bSi"
      },
      "source": [
        "---\n",
        "# Método de Newton–Raphson\n",
        "\n",
        "O **Método de Newton–Raphson** é um método iterativo usado para encontrar raízes de equações reais, isto é, soluções para $f(x)=0$, onde $f(x)$ é uma função derivável. Ele constrói uma sequência de aproximações da raiz utilizando a derivada da função a cada iteração.\n",
        "\n",
        "## Como funciona\n",
        "\n",
        "1. **Chute inicial:**\n",
        "   Começa-se com um valor inicial $x_0$ próximo à raiz desejada.\n",
        "\n",
        "2. **Tangente:**\n",
        "   Traça-se a reta tangente ao gráfico de $f(x)$ no ponto $(x_0, f(x_0))$.\n",
        "\n",
        "3. **Próxima aproximação:**\n",
        "   A próxima aproximação $x_1$ é o ponto onde essa tangente intercepta o eixo $x$.\n",
        "\n",
        "4. **Iteração:**\n",
        "   Repete-se o processo (passos 2 e 3) com a nova aproximação $x_1$ até que a diferença entre duas iterações sucessivas seja menor que uma tolerância (erro máximo) especificada.\n",
        "\n",
        "## Fórmula\n",
        "\n",
        "A fórmula principal do método é:\n",
        "\n",
        "$$\n",
        "x_{n+1} = x_n - \\frac{f(x_n)}{f'(x_n)}\n",
        "$$\n",
        "\n",
        "**Onde:**\n",
        "\n",
        "* $x_{n+1}$ é a próxima aproximação da raiz;\n",
        "* $x_n$ é a aproximação atual;\n",
        "* $f(x_n)$ é o valor da função na aproximação atual;\n",
        "* $f'(x_n)$ é o valor da derivada da função na aproximação atual.\n"
      ]
    },
    {
      "cell_type": "markdown",
      "id": "JpTGH3d27U4F",
      "metadata": {
        "id": "JpTGH3d27U4F"
      },
      "source": [
        "---\n",
        "# Códigos auxiliares para o desenvolvimento das questões.\n",
        "> **Observação:** Realize as alterações necessárias."
      ]
    },
    {
      "cell_type": "code",
      "execution_count": 1,
      "id": "0CCL3We_Cnue",
      "metadata": {
        "id": "0CCL3We_Cnue"
      },
      "outputs": [],
      "source": [
        "import numpy as np\n",
        "import matplotlib.pyplot as plt"
      ]
    },
    {
      "cell_type": "code",
      "execution_count": 2,
      "id": "110E7XCqk-IJ",
      "metadata": {
        "id": "110E7XCqk-IJ"
      },
      "outputs": [],
      "source": [
        "# Defina a função de destino cuja raiz você deseja encontrar\n",
        "def target_function(x):\n",
        "    return x**3 - 5*x**2 + 2*x + 1 # <- Modifique conforme o enunciado\n",
        "\n",
        "# Calcula a derivada da função\n",
        "def derivative_function(x):\n",
        "    return 3*x**2 - 10*x + 2 # <- Calcule a derivada da função e modifique"
      ]
    },
    {
      "cell_type": "code",
      "execution_count": 14,
      "id": "NNfBqILInwqP",
      "metadata": {
        "id": "NNfBqILInwqP"
      },
      "outputs": [],
      "source": [
        "# implementa o processo de iteração usando a fórmula de Newton-Raphson\n",
        "def newton_raphson_method(initial_guess, tolerance, max_iterations):\n",
        "    \"\"\"\n",
        "    Aplica o método de Newton–Raphson para aproximar uma raiz de target_function(x).\n",
        "\n",
        "    :param initial_guess: chute inicial x0\n",
        "    :param tolerance: tolerância para parada (critério |f(x)| < tolerance)\n",
        "    :param max_iterations: número máximo de iterações\n",
        "    :return: raiz aproximada (float)\n",
        "    \"\"\"\n",
        "    x_n = initial_guess\n",
        "    for iteration in range(max_iterations):\n",
        "        f_x = target_function(x_n)\n",
        "        f_prime_x = derivative_function(x_n)\n",
        "\n",
        "        if abs(f_x) < tolerance:\n",
        "            break\n",
        "\n",
        "        x_n = x_n - f_x / f_prime_x\n",
        "\n",
        "    return x_n, iteration"
      ]
    },
    {
      "cell_type": "code",
      "execution_count": 4,
      "id": "1lCgvBIdpHYs",
      "metadata": {
        "id": "1lCgvBIdpHYs"
      },
      "outputs": [],
      "source": [
        "initial_guess  = 8.0     # chute inicial\n",
        "tolerance      = 1e-9    # tolerância\n",
        "max_iterations = 250     # máximo de iterações"
      ]
    },
    {
      "cell_type": "code",
      "execution_count": 11,
      "id": "XlbeVbTADeM6",
      "metadata": {
        "id": "XlbeVbTADeM6"
      },
      "outputs": [],
      "source": [
        "# Plota o gráfico da função e raiz(es)\n",
        "def plot_function_and_roots(xmin, xmax, roots=None):\n",
        "    \"\"\"\n",
        "    Plota target_function(x) no intervalo [xmin, xmax] e marca raízes (se fornecidas).\n",
        "    :param xmin: limite inferior do eixo x\n",
        "    :param xmax: limite superior do eixo x\n",
        "    :param roots: lista de raízes para destacar (ex.: [root]) ou None\n",
        "    :param titulo: título do gráfico\n",
        "    \"\"\"\n",
        "    xs = np.linspace(xmin, xmax, 400)\n",
        "    ys = [target_function(x) for x in xs]\n",
        "\n",
        "    plt.figure(figsize=(6,4))\n",
        "    plt.axhline(0, linewidth=1)        # eixo x\n",
        "    plt.plot(xs, ys, linewidth=2)      # f(x)\n",
        "\n",
        "    if roots:\n",
        "        for r in roots:\n",
        "            plt.scatter([r], [target_function(r)], s=60, zorder=3)\n",
        "            plt.axvline(r, linestyle='--', linewidth=1)\n",
        "            plt.text(r, 0, f\"{r:.4g}\", ha='center', va='bottom')\n",
        "\n",
        "    plt.xlim(xmin, xmax)\n",
        "    plt.xlabel(\"x\"); plt.ylabel(\"f(x)\")\n",
        "    plt.title(\"Título\")\n",
        "    plt.grid(True, alpha=0.3)\n",
        "    plt.show()"
      ]
    },
    {
      "cell_type": "code",
      "execution_count": 17,
      "id": "ySstTobhOGBl",
      "metadata": {
        "id": "ySstTobhOGBl"
      },
      "outputs": [
        {
          "name": "stdout",
          "output_type": "stream",
          "text": [
            "Raiz estimada: 2.8169140527452883\n",
            "Numero de iteracoes:  7\n"
          ]
        },
        {
          "data": {
            "image/png": "[encoded data removed]",
            "text/plain": [
              "<Figure size 600x400 with 1 Axes>"
            ]
          },
          "metadata": {},
          "output_type": "display_data"
        }
      ],
      "source": [
        "root, iterations = newton_raphson_method(initial_guess, tolerance, max_iterations)\n",
        "print(\"Raiz estimada:\", root)\n",
        "print('Numero de iteracoes: ', iterations)\n",
        "plot_function_and_roots(-2, 8, roots=[root])"
      ]
    },
    {
      "cell_type": "markdown",
      "id": "akee3Nh30NEn",
      "metadata": {
        "id": "akee3Nh30NEn"
      },
      "source": [
        "---\n",
        "### Parte Prática:\n",
        "> Utilizando os códigos fornecidos, faça o que se pede.\n",
        "\n",
        "## Questão 1 — Determinar as raízes da função:\n",
        "\n",
        "**Enunciado.** Considere a função\n",
        "\n",
        "$$\n",
        "f(x)=x^3-9x+3.\n",
        "$$\n",
        "\n",
        "Determine a **raiz** no intervalo $[0,1]$ usando o **método de Newton–Raphson** com erro máximo de $10^{-2}$.\n",
        "\n",
        "**Dados:**\n",
        "\n",
        "* **Tolerância:** $\\varepsilon = 10^{-2}$\n",
        "* **Chute inicial:** $x_0 = 0{,}5$\n",
        "* **Máximo de iterações:** $N_{\\max} = 50$\n",
        "\n"
      ]
    },
    {
      "cell_type": "markdown",
      "id": "Hu5_zbi4LKOp",
      "metadata": {
        "id": "Hu5_zbi4LKOp"
      },
      "source": [
        "a) Encontre a derivada da função:"
      ]
    },
    {
      "cell_type": "markdown",
      "id": "TYbGAw7NLOfd",
      "metadata": {
        "id": "TYbGAw7NLOfd"
      },
      "source": [
        "Resposta: f'(x) = 3x² -9"
      ]
    },
    {
      "cell_type": "markdown",
      "id": "c5b16605",
      "metadata": {},
      "source": [
        "$$\n",
        "f'(x)=3x² - 9\n",
        "$$"
      ]
    },
    {
      "cell_type": "markdown",
      "id": "8dNXk3kR90lt",
      "metadata": {
        "id": "8dNXk3kR90lt"
      },
      "source": [
        "b) Valor aproximado da raiz:"
      ]
    },
    {
      "cell_type": "code",
      "execution_count": 20,
      "id": "Gwv4UJ4HDwHn",
      "metadata": {
        "id": "Gwv4UJ4HDwHn"
      },
      "outputs": [
        {
          "name": "stdout",
          "output_type": "stream",
          "text": [
            "Valor aproximado da raiz: 0.33760683760683763\n"
          ]
        }
      ],
      "source": [
        "def derivative_function(x:float):\n",
        "    return 3*x**2 - 9\n",
        "\n",
        "def target_function(x:float):\n",
        "    return x**3 - 9*x + 3\n",
        "\n",
        "raiz_aproximada, iterations = newton_raphson_method(0.5, 0.01, 50 )\n",
        "print(f\"Valor aproximado da raiz: {raiz_aproximada}\")\n"
      ]
    },
    {
      "cell_type": "markdown",
      "id": "oMGSsn1T98EW",
      "metadata": {
        "id": "oMGSsn1T98EW"
      },
      "source": [
        "c) Número de iterações realizadas até atingir o critério de parada:"
      ]
    },
    {
      "cell_type": "code",
      "execution_count": 21,
      "id": "AtyTFVjj9-Zw",
      "metadata": {
        "id": "AtyTFVjj9-Zw"
      },
      "outputs": [
        {
          "name": "stdout",
          "output_type": "stream",
          "text": [
            "Quantidade de iteracoes realizadas: 2\n"
          ]
        }
      ],
      "source": [
        "print(f\"Quantidade de iteracoes realizadas: {iterations}\")"
      ]
    },
    {
      "cell_type": "markdown",
      "id": "v69XLI5HDxdo",
      "metadata": {
        "id": "v69XLI5HDxdo"
      },
      "source": [
        "d) Plote o gráfico da função e a raíz encontrada:\n",
        "\n",
        "\n",
        "\n"
      ]
    },
    {
      "cell_type": "code",
      "execution_count": 26,
      "id": "njGIu1_OECk_",
      "metadata": {
        "id": "njGIu1_OECk_"
      },
      "outputs": [
        {
          "data": {
            "image/png": "[encoded data removed]",
            "text/plain": [
              "<Figure size 600x400 with 1 Axes>"
            ]
          },
          "metadata": {},
          "output_type": "display_data"
        }
      ],
      "source": [
        "\n",
        "plot_function_and_roots(-2, 8, roots=[raiz_aproximada])"
      ]
    },
    {
      "cell_type": "markdown",
      "id": "7MZQS_2TJyfq",
      "metadata": {
        "id": "7MZQS_2TJyfq"
      },
      "source": [
        "## Questão 2 — Deflexão de uma mola levemente não linear\n",
        "\n",
        "Uma mola real apresenta leve não linearidade. A deflexão $x$ (em metros) sob uma força aplicada $F$ pode ser aproximada por:\n",
        "\n",
        "$$\n",
        "f(x) = k\\,x + \\alpha\\,x^3 - F = 0.\n",
        "$$\n",
        "\n",
        "\n",
        "**Dados:**\n",
        "\n",
        "* Rigidez linear $k = 180$ (unidades coerentes)\n",
        "* Não linearidade $\\alpha = 8$\n",
        "* Força aplicada $F = 60$\n",
        "* Intervalo de interesse: $x \\in [0,\\;0{,}6]$\n",
        "\n",
        "* **Tolerância:** $\\varepsilon = 10^{-2}$\n",
        "* **Chute inicial:** $x_0 = 0{,}3$\n",
        "* **Máximo de iterações:** $N_{\\max} = 100$\n"
      ]
    },
    {
      "cell_type": "markdown",
      "id": "2SY9jd28KwuI",
      "metadata": {
        "id": "2SY9jd28KwuI"
      },
      "source": [
        "a) Encontre a derivada da função:"
      ]
    },
    {
      "cell_type": "markdown",
      "id": "6IbVTtgQK6oF",
      "metadata": {
        "id": "6IbVTtgQK6oF"
      },
      "source": [
        "Resposta: \n",
        "$$\n",
        "f(x) = 180x + 8x^3 - 60 = 0.\n",
        "$$\n",
        "$$\n",
        "\n",
        "\n",
        "f'(x) = 24x² + 180.\n",
        "\n",
        "$$\n"
      ]
    },
    {
      "cell_type": "markdown",
      "id": "9_X-U0fNKQMd",
      "metadata": {
        "id": "9_X-U0fNKQMd"
      },
      "source": [
        "b) Valor aproximado da raiz no intervalo:"
      ]
    },
    {
      "cell_type": "code",
      "execution_count": 24,
      "id": "hjaLnaoHKPm8",
      "metadata": {
        "id": "hjaLnaoHKPm8"
      },
      "outputs": [
        {
          "name": "stdout",
          "output_type": "stream",
          "text": [
            "Valor aproximado da raiz: 0.33175230566534913\n"
          ]
        }
      ],
      "source": [
        "max_iterations = 100\n",
        "x_n = 0.3\n",
        "tolerance = 0.01\n",
        "\n",
        "\n",
        "def target_function(x:float):\n",
        "    return 180*x + 8*x**3 - 60\n",
        "\n",
        "def derivative_function(x: float):\n",
        "    return 24*x**2 + 180\n",
        "\n",
        "root, iterations = newton_raphson_method(x_n, tolerance, max_iterations)\n",
        "print(f\"Valor aproximado da raiz: {root}\")\n"
      ]
    },
    {
      "cell_type": "markdown",
      "id": "SPMCpNYJKgsh",
      "metadata": {
        "id": "SPMCpNYJKgsh"
      },
      "source": [
        "c) Número de iterações realizadas até atingir o critério de parada:"
      ]
    },
    {
      "cell_type": "code",
      "execution_count": 25,
      "id": "SWuSr59LKjxe",
      "metadata": {
        "id": "SWuSr59LKjxe"
      },
      "outputs": [
        {
          "name": "stdout",
          "output_type": "stream",
          "text": [
            "Quantidade de iteracoes realizadas: 1\n"
          ]
        }
      ],
      "source": [
        "print(f\"Quantidade de iteracoes realizadas: {iterations}\")"
      ]
    },
    {
      "cell_type": "markdown",
      "id": "sqrCkjszKkK9",
      "metadata": {
        "id": "sqrCkjszKkK9"
      },
      "source": [
        "d) Plote o gráfico da função e a raíz encontrada:"
      ]
    },
    {
      "cell_type": "code",
      "execution_count": 27,
      "id": "NhmCEtSxKt0_",
      "metadata": {
        "id": "NhmCEtSxKt0_"
      },
      "outputs": [
        {
          "data": {
            "image/png": "[encoded data removed]",
            "text/plain": [
              "<Figure size 600x400 with 1 Axes>"
            ]
          },
          "metadata": {},
          "output_type": "display_data"
        }
      ],
      "source": [
        "iter_min = 0\n",
        "iter_max = 0.6\n",
        "plot_function_and_roots(iter_min, iter_max, roots=[root])"
      ]
    },
    {
      "cell_type": "markdown",
      "id": "07a9097c",
      "metadata": {
        "id": "07a9097c"
      },
      "source": [
        "---\n",
        "### Parte Teórica:\n",
        ">**Instruções:** assinale **V** (verdadeiro) ou **F** (falso) em cada afirmativa. **Justifique se for falso**.\n",
        "\n"
      ]
    },
    {
      "cell_type": "markdown",
      "id": "gLpL9K8W_zA6",
      "metadata": {
        "id": "gLpL9K8W_zA6"
      },
      "source": [
        "a) Uma desvantagem de usar $\\lvert f(x_k)\\rvert < \\varepsilon$ como critério de parada é que a função pode apenas chegar próximo de $0$, mas não cruzar o eixo $x$."
      ]
    },
    {
      "cell_type": "markdown",
      "id": "36vpWuIT_z6N",
      "metadata": {
        "id": "36vpWuIT_z6N"
      },
      "source": [
        "Resposta:V- Verdadeiro, pois como buscamos as raizes de funcoes onde os valores de f(x) = 0  e buscamos que os chegar o mais proximo percorrendo a funcao até o valor onde y =0 assim quanto mais proximo o chute inical mais rapido será encontrada o valor da raiz e  menos iteracoes no algoritmo, ha casos de funcoes que passam proximo ao reta do eixo X porem nao cruza o eixo."
      ]
    },
    {
      "cell_type": "markdown",
      "id": "uIjUex6J_6Ku",
      "metadata": {
        "id": "uIjUex6J_6Ku"
      },
      "source": [
        "b) Dado um intervalo $[a,b]$, se $f$ é contínua, $f(a) > 0$ e $f(b) > 0$, então não há raiz real no intervalo $[a,b]$."
      ]
    },
    {
      "cell_type": "markdown",
      "id": "6aa93a51",
      "metadata": {},
      "source": [
        "REsposta: F - Falso, Pode haver um numero par de raízes mesmo que os sinais dos extremos do intervalo sejam iguais."
      ]
    },
    {
      "cell_type": "markdown",
      "id": "xW0hYRPM_7NK",
      "metadata": {
        "id": "xW0hYRPM_7NK"
      },
      "source": [
        "Resposta:"
      ]
    },
    {
      "cell_type": "markdown",
      "id": "elJiar--ABp8",
      "metadata": {
        "id": "elJiar--ABp8"
      },
      "source": [
        "c) Dado um intervalo $[a,b]$, se $f$ é contínua, $f(a) > 0$ e $f(b) < 0$, então há exatamente uma única raiz real no intervalo $[a,b]$."
      ]
    },
    {
      "cell_type": "markdown",
      "id": "pUU7TPQtAgJ4",
      "metadata": {
        "id": "pUU7TPQtAgJ4"
      },
      "source": [
        "Resposta: F - Falso, pois o teorema de valor intermediario nao garante que irá existir apenas uma raiz real no intervalo."
      ]
    },
    {
      "cell_type": "markdown",
      "id": "hDdHm4N0ACtv",
      "metadata": {
        "id": "hDdHm4N0ACtv"
      },
      "source": [
        "Resposta:"
      ]
    },
    {
      "cell_type": "markdown",
      "id": "zv07tnKNAISG",
      "metadata": {
        "id": "zv07tnKNAISG"
      },
      "source": [
        "d) O método de Newton terá uma melhor convergência se já estiver próximo da raiz."
      ]
    },
    {
      "cell_type": "markdown",
      "id": "3e6hSHW8AJMz",
      "metadata": {
        "id": "3e6hSHW8AJMz"
      },
      "source": [
        "Resposta:V - Verdadeio, a convergencia só é garantida se o valor de x0(chute inicial) estiver realmente proximo da raiz"
      ]
    },
    {
      "cell_type": "markdown",
      "id": "4c869e17",
      "metadata": {},
      "source": []
    }
  ],
  "metadata": {
    "colab": {
      "provenance": []
    },
    "kernel_info": {
      "name": "python"
    },
    "kernelspec": {
      "display_name": "m06-K3ZFOi6e-py3.13",
      "language": "python",
      "name": "python3"
    },
    "language_info": {
      "codemirror_mode": {
        "name": "ipython",
        "version": 3
      },
      "file_extension": ".py",
      "mimetype": "text/x-python",
      "name": "python",
      "nbconvert_exporter": "python",
      "pygments_lexer": "ipython3",
      "version": "3.13.3"
    },
    "nteract": {
      "version": "nteract-front-end@1.0.0"
    }
  },
  "nbformat": 4,
  "nbformat_minor": 5
}
