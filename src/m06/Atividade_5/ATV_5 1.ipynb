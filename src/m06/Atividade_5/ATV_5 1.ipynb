{
  "cells": [
    {
      "cell_type": "markdown",
      "id": "b16fb5f3",
      "metadata": {
        "id": "b16fb5f3"
      },
      "source": [
        "## Nome: Nicholas Lima do Nascimento\n",
        "## Matricula: 697"
      ]
    },
    {
      "cell_type": "markdown",
      "id": "49f05b5a",
      "metadata": {
        "id": "49f05b5a"
      },
      "source": [
        "---"
      ]
    },
    {
      "cell_type": "markdown",
      "id": "53b490c0",
      "metadata": {
        "id": "53b490c0"
      },
      "source": [
        "## **Atividade 5** - Localização e Refinamento de Raízes"
      ]
    },
    {
      "cell_type": "markdown",
      "id": "1dbea31f",
      "metadata": {},
      "source": [
        "## Funções Auxiliares"
      ]
    },
    {
      "cell_type": "code",
      "execution_count": 1,
      "id": "14c6a5ac",
      "metadata": {
        "id": "14c6a5ac"
      },
      "outputs": [],
      "source": [
        "# Plotar gráficos\n",
        "import seaborn as sns\n",
        "import matplotlib.pyplot as plt\n",
        "\n",
        "# Analise de dados\n",
        "import numpy as np\n",
        "import pandas as pd"
      ]
    },
    {
      "cell_type": "markdown",
      "id": "5cc80e43",
      "metadata": {},
      "source": [
        "### Função e Derivada da Função"
      ]
    },
    {
      "cell_type": "code",
      "execution_count": 2,
      "id": "aa5d6567",
      "metadata": {},
      "outputs": [],
      "source": [
        "def target_function(x):\n",
        "    return x**3 - 2*x**2 - 3*x + 1\n",
        "\n",
        "def derivative_function(x):\n",
        "    return 3*x**2 - 4*x - 3\n",
        "\n",
        "intervalo = [-5, 5]"
      ]
    },
    {
      "cell_type": "markdown",
      "id": "9ab49d38",
      "metadata": {},
      "source": [
        "### Método de Newton-Raphson"
      ]
    },
    {
      "cell_type": "code",
      "execution_count": 3,
      "id": "31cc462c",
      "metadata": {},
      "outputs": [],
      "source": [
        "# implementa o processo de iteração usando a fórmula de Newton-Raphson\n",
        "def newton_raphson_method(initial_guess, tolerance, max_iterations):\n",
        "    \"\"\"\n",
        "    Aplica o método de Newton–Raphson para aproximar uma raiz de target_function(x).\n",
        "\n",
        "    :param initial_guess: chute inicial x0\n",
        "    :param tolerance: tolerância para parada (critério |f(x)| < tolerance)\n",
        "    :param max_iterations: número máximo de iterações\n",
        "    :return: raiz aproximada (float), número de iterações (int)\n",
        "    \"\"\"\n",
        "    x_n = initial_guess\n",
        "    for iteration in range(max_iterations):\n",
        "        f_x = target_function(x_n)\n",
        "        f_prime_x = derivative_function(x_n)\n",
        "\n",
        "        # Evitar divisão por zero\n",
        "        if f_prime_x == 0:\n",
        "            print(\"A derivada é zero. Não é possível prosseguir.\")\n",
        "            return x_n, iteration + 1 # Retornar a aproximação atual e a contagem de iterações\n",
        "\n",
        "        # Verificar convergência com base na tolerância\n",
        "        if abs(f_x) < tolerance:\n",
        "            return x_n, iteration + 1 # Retornar a raiz e a contagem de iterações\n",
        "\n",
        "        x_n = x_n - f_x / f_prime_x\n",
        "\n",
        "    # Se o número máximo de iterações for atingido sem convergência\n",
        "    print(\"Número máximo de iterações atingido sem alcançar a tolerância desejada.\")\n",
        "    return x_n, max_iterations"
      ]
    },
    {
      "cell_type": "markdown",
      "id": "5e44a274",
      "metadata": {},
      "source": [
        "---"
      ]
    },
    {
      "cell_type": "markdown",
      "id": "4afa8049",
      "metadata": {},
      "source": [
        "## Parte Prática\n",
        "No Inatel, os alunos de engenharia muitas vezes precisam analisar funções matemáticas para resolver problemas práticos, como verificar o comportamento de circuitos, sinais ou sistemas de controle. Encontrar as raízes de uma função é um passo importante nesses contextos, pois pode indicar pontos de equilíbrio, frequências de ressonância ou condições de operação de um sistema.\n",
        "\n",
        "Seja a função\n",
        "$f(x) = x^3 – 2x^2 – 3x + 1$.\n",
        "\n",
        "Sabendo que esta função possui raízes no intervalo [−5,5], utilize o TEU com espaçamento de 1 para localizar os intervalos que contêm cada uma das raízes reais da função."
      ]
    },
    {
      "cell_type": "code",
      "execution_count": 4,
      "id": "fca47a69",
      "metadata": {
        "colab": {
          "base_uri": "https://localhost:8080/",
          "height": 677
        },
        "id": "fca47a69",
        "outputId": "572e880c-3549-4fc6-e37a-0989cef6e382"
      },
      "outputs": [
        {
          "name": "stdout",
          "output_type": "stream",
          "text": [
            " x f(x) f1(x)\n",
            "-5 -159    92\n",
            "-4  -83    61\n",
            "-3  -35    36\n",
            "-2   -9    17\n",
            "-1    1     4\n",
            " 0    1    -3\n",
            " 1   -3    -4\n",
            " 2   -5     1\n",
            " 3    1    12\n",
            " 4   21    29\n",
            " 5   61    52\n"
          ]
        }
      ],
      "source": [
        "df = pd.DataFrame(columns=[\"x\", \"f(x)\", \"f1(x)\"])\n",
        "for x in range(intervalo[0], intervalo[1]+1):\n",
        "    df = pd.concat([df, pd.DataFrame({\"x\": [x], \"f(x)\": [target_function(x)], \"f1(x)\": [derivative_function(x)]})]).reset_index(drop=True)\n",
        "\n",
        "# print(df)\n",
        "print(df.to_string(index=False))"
      ]
    },
    {
      "cell_type": "markdown",
      "id": "970bae20",
      "metadata": {},
      "source": [
        "1. Utilizando o Teorema do Valor Intermediário (TEU) e espaçamento unitário no intervalo [−5,5], determine os subintervalos que contêm cada uma das raízes reais da função."
      ]
    },
    {
      "cell_type": "code",
      "execution_count": 5,
      "id": "7b2aca71",
      "metadata": {},
      "outputs": [
        {
          "name": "stdout",
          "output_type": "stream",
          "text": [
            "11\n",
            "Intervalos com raizes [(-2, -1), (0, 1), (2, 3)]\n",
            "Chutes iniciais: [-1.5, 0.5, 2.5]\n"
          ]
        }
      ],
      "source": [
        "def mudou_sinal(fa, fb):\n",
        "    # TEU: existe raiz em [a,b] se f é contínua e fa*fb < 0\n",
        "    return fa * fb < 0\n",
        "\n",
        "intervalos = []\n",
        "chutes_iniciais = []\n",
        "print(df.shape[0])\n",
        "\n",
        "for x in range(df.shape[0]-1):\n",
        "    # Pegando os valores para cada intervalo\n",
        "    fa = df.loc[x, 'f(x)']\n",
        "    fb = df.loc[x + 1, 'f(x)']\n",
        "    \n",
        "    # 1. Verificar se há mudança de sinal na função\n",
        "    if mudou_sinal(fa, fb):\n",
        "        a = df.loc[x, 'x']\n",
        "        b = df.loc[x + 1, 'x']\n",
        "        intervalos.append((a, b))\n",
        "        \n",
        "        # 2. Escolher os chutes iniciais para Newton-Raphson (utilize o ponto médio do intervalo)\n",
        "        chute_inicial = (a + b) / 2  \n",
        "        chutes_iniciais.append(chute_inicial)\n",
        "        \n",
        "    \n",
        "print(f'Intervalos com raizes {intervalos}')\n",
        "print(f'Chutes iniciais: {chutes_iniciais}')\n"
      ]
    },
    {
      "cell_type": "markdown",
      "id": "3ae21297",
      "metadata": {},
      "source": [
        "2. Identifique visualmente os pontos onde a curva cruza o eixo x e compare com os intervalos obtidos pelo TEU."
      ]
    },
    {
      "cell_type": "code",
      "execution_count": 6,
      "id": "bf7ba2a5",
      "metadata": {},
      "outputs": [
        {
          "data": {
            "image/png": "[encoded data removed]",
            "text/plain": [
              "<Figure size 1000x1000 with 1 Axes>"
            ]
          },
          "metadata": {},
          "output_type": "display_data"
        }
      ],
      "source": [
        "\n",
        "# Plote um gráfico de linhas que mostre a função.\n",
        "def plot_function_and_roots(xmin, xmax, roots=None):\n",
        "    \"\"\"\n",
        "    Plota target_function(x) no intervalo [xmin, xmax] e marca raízes (se fornecidas).\n",
        "    :param xmin: limite inferior do eixo x\n",
        "    :param xmax: limite superior do eixo x\n",
        "    :param roots: lista de raízes para destacar (ex.: [root]) ou None\n",
        "    :param titulo: título do gráfico\n",
        "    \"\"\"\n",
        "    xs = np.linspace(xmin, xmax, 400)\n",
        "    ys = [target_function(x) for x in xs]\n",
        "\n",
        "    plt.figure(figsize=(10,10))\n",
        "    plt.axhline(0, linewidth=1, label='X')        # eixo x\n",
        "    plt.plot(xs, ys, linewidth=2, label='f(x) = x³ -2x² -3x + 1')      # f(x)\n",
        "\n",
        "    if roots:\n",
        "        for r in roots:\n",
        "            plt.scatter([r], [target_function(r)], s=60, zorder=3)\n",
        "            plt.axvline(r, linestyle='--', linewidth=1)\n",
        "            plt.text(r, 0, f\"{r:.4g}\", ha='center', va='bottom')\n",
        "\n",
        "    plt.xlim(xmin, xmax)\n",
        "    plt.xlabel(\"x\"); plt.ylabel(\"f(x)\")\n",
        "    plt.title(\"Grafico da função f(x)\")\n",
        "    plt.grid(True, alpha=0.3)\n",
        "    plt.show()\n",
        "\n",
        "\n",
        "plot_function_and_roots(-5,5)"
      ]
    },
    {
      "cell_type": "markdown",
      "id": "f596fba1",
      "metadata": {},
      "source": [
        "3. Implemente o Método de Newton-Raphson nos pontos iniciais obtidos."
      ]
    },
    {
      "cell_type": "code",
      "execution_count": 7,
      "id": "17d9f803",
      "metadata": {},
      "outputs": [
        {
          "name": "stdout",
          "output_type": "stream",
          "text": [
            "Para o chute -1.5 a raiz aproximada é -1.20 em 5 iteracoes.\n",
            "Para o chute 0.5 a raiz aproximada é 0.29 em 4 iteracoes.\n",
            "Para o chute 2.5 a raiz aproximada é 2.91 em 6 iteracoes.\n"
          ]
        }
      ],
      "source": [
        "tolerancia = 1e-9\n",
        "iteracao_max = 250\n",
        "\n",
        "# Implementação do método consta nas funções auxiliares\n",
        "for chute in chutes_iniciais:\n",
        "    root, iteracoes = newton_raphson_method(chute, tolerance=tolerancia, max_iterations=iteracao_max)\n",
        "    print(f'Para o chute {chute} a raiz aproximada é {root:.2f} em {iteracoes} iteracoes.')"
      ]
    },
    {
      "cell_type": "markdown",
      "id": "89f288ef",
      "metadata": {},
      "source": [
        "4. Implemente o Método de Bissecção"
      ]
    },
    {
      "cell_type": "code",
      "execution_count": 12,
      "id": "5c0983b8",
      "metadata": {},
      "outputs": [
        {
          "name": "stdout",
          "output_type": "stream",
          "text": [
            "Usando o metodo da bisseccao\n",
            "Para o chute 2.5 a raiz aproximada é -1.20 em 31 iteracoes.\n",
            "Para o chute 2.5 a raiz aproximada é 0.29 em 31 iteracoes.\n",
            "Para o chute 2.5 a raiz aproximada é 2.91 em 31 iteracoes.\n"
          ]
        }
      ],
      "source": [
        "def bisseccao_method(a, b, tolerance, max_iterations):\n",
        "    \"\"\"\n",
        "    Aplica o método da bissecção para aproximar uma raiz de target_function(x).\n",
        "\n",
        "    :param a: limite inferior do intervalo\n",
        "    :param b: limite superior do intervalo\n",
        "    :param tolerance: tolerância para parada (|b-a| < tolerance)\n",
        "    :param max_iterations: número máximo de iterações\n",
        "    :return: raiz aproximada (float), número de iterações (int)\n",
        "    \"\"\"\n",
        "    fa = target_function(a)\n",
        "    fb = target_function(b)\n",
        "\n",
        "    # Verifica se o intervalo inicial é válido\n",
        "    if fa * fb >= 0:\n",
        "        print(\"O metodo da Bisseccao pode nao convergir, pois nao ha mudança de sinal no intervalo\")\n",
        "        return None, 0\n",
        "\n",
        "    x_n = a\n",
        "    for iteration in range(max_iterations):\n",
        "        x_n = (a + b) / 2\n",
        "        f_xn = target_function(x_n)\n",
        "\n",
        "        # Criterio de parada\n",
        "        if abs(b - a) < tolerance:\n",
        "            return x_n, iteration + 1\n",
        "\n",
        "        # Reduz o intervalo\n",
        "        if f_xn * fa < 0:\n",
        "            b = x_n\n",
        "        else:\n",
        "            a = x_n\n",
        "            fa = f_xn\n",
        "    \n",
        "    # Se o número máximo de iterações for atingido\n",
        "    print(\"Número máximo de iterações atingido sem alcançar a tolerância desejada.\")\n",
        "    return x_n, max_iterations\n",
        "\n",
        "\n",
        "\n",
        "tolerancia = 1e-9\n",
        "iteracao_max = 250\n",
        "print(\"Usando o metodo da bisseccao\")\n",
        "# Implementação do método consta nas funções auxiliares\n",
        "for intervalo in intervalos:\n",
        "    root, iteracoes = bisseccao_method(intervalo[0], intervalo[1], tolerance=tolerancia, max_iterations=iteracao_max)\n",
        "    print(f'Para o chute {chute} a raiz aproximada é {root:.2f} em {iteracoes} iteracoes.')\n",
        "\n"
      ]
    },
    {
      "cell_type": "markdown",
      "id": "a29c8d71",
      "metadata": {},
      "source": [
        "---\n",
        "## Parte Teórica"
      ]
    },
    {
      "cell_type": "markdown",
      "id": "df162c4e",
      "metadata": {},
      "source": [
        "1. Quais são as limitações do uso do TEU para encontrar raízes de funções?"
      ]
    },
    {
      "cell_type": "markdown",
      "id": "3834bc67",
      "metadata": {},
      "source": [
        "Resposta: O teorema nao encontra todas as raizes e nao diz onde a raiz está, afirma apenas que existe raizes em dado intervalo. Sendo util para localização nao para refinamento."
      ]
    },
    {
      "cell_type": "markdown",
      "id": "476817ef",
      "metadata": {},
      "source": [
        "2. Qual é a principal vantagem do método da bissecção em relação a outros métodos numéricos?"
      ]
    },
    {
      "cell_type": "markdown",
      "id": "8e1783e1",
      "metadata": {},
      "source": [
        "Resposta: Ele garante a convergência, com o intervalo sempre sendo reduzido para a metade a cada iteração"
      ]
    },
    {
      "cell_type": "markdown",
      "id": "a830145f",
      "metadata": {},
      "source": [
        "3. Em quais situações o método de Newton-Raphson pode falhar ou não convergir?"
      ]
    },
    {
      "cell_type": "markdown",
      "id": "c0af7d69",
      "metadata": {},
      "source": [
        "Resposta: Pode falhar se o chute inicial for muito ruim, podendo ocorrer problemas onde a derivada é 0 e funcoes que oscila muito, como um ruido sonoro."
      ]
    },
    {
      "cell_type": "markdown",
      "id": "99d674f5",
      "metadata": {},
      "source": []
    }
  ],
  "metadata": {
    "colab": {
      "provenance": []
    },
    "kernel_info": {
      "name": "python"
    },
    "kernelspec": {
      "display_name": "m06-K3ZFOi6e-py3.13",
      "language": "python",
      "name": "python3"
    },
    "language_info": {
      "codemirror_mode": {
        "name": "ipython",
        "version": 3
      },
      "file_extension": ".py",
      "mimetype": "text/x-python",
      "name": "python",
      "nbconvert_exporter": "python",
      "pygments_lexer": "ipython3",
      "version": "3.13.3"
    },
    "nteract": {
      "version": "nteract-front-end@1.0.0"
    }
  },
  "nbformat": 4,
  "nbformat_minor": 5
}
