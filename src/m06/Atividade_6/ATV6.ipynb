{
 "cells": [
  {
   "cell_type": "markdown",
   "id": "2db1adc9",
   "metadata": {},
   "source": [
    "## Nome: Nicholas Lima do Nascimento    \n",
    "## Matricula: 697"
   ]
  },
  {
   "cell_type": "markdown",
   "id": "83e44c4f",
   "metadata": {},
   "source": [
    "## **Atividade 6** - Métodos Iterativos de Jacobi e de Gauss-Seidel"
   ]
  },
  {
   "cell_type": "markdown",
   "id": "343c9d3b",
   "metadata": {},
   "source": [
    "## Funções Auxiliares"
   ]
  },
  {
   "cell_type": "code",
   "execution_count": 2,
   "id": "54ba8d57",
   "metadata": {},
   "outputs": [],
   "source": [
    "# Plotar gráficos\n",
    "import seaborn as sns\n",
    "import matplotlib.pyplot as plt\n",
    "\n",
    "# Analise de dados\n",
    "import numpy as np\n",
    "import pandas as pd\n"
   ]
  },
  {
   "cell_type": "markdown",
   "id": "3c1f62dd",
   "metadata": {},
   "source": [
    "### Método de Gauss-Seidel"
   ]
  },
  {
   "cell_type": "code",
   "execution_count": 3,
   "id": "41fe46a8",
   "metadata": {},
   "outputs": [],
   "source": [
    "# Implementa o processo de iteração usando o método de Gauss-Seidel\n",
    "def gauss_seidel_method(A, b, initial_guess=None, tolerance=1e-6, max_iterations=100):\n",
    "    \"\"\"\n",
    "    Aplica o método de Gauss-Seidel para resolver sistemas lineares Ax = b.\n",
    "\n",
    "    :param A: matriz dos coeficientes (numpy array)\n",
    "    :param b: vetor de constantes (numpy array)\n",
    "    :param initial_guess: chute inicial (vetor, opcional)\n",
    "    :param tolerance: critério de parada (diferença máxima entre iterações consecutivas)\n",
    "    :param max_iterations: número máximo de iterações\n",
    "    :return: vetor solução aproximada (numpy array), número de iterações realizadas (int)\n",
    "    \"\"\"\n",
    "    n = len(b)\n",
    "    x = np.zeros_like(b, dtype=float) if initial_guess is None else initial_guess.astype(float)\n",
    "\n",
    "    for iteration in range(max_iterations):\n",
    "        x_new = np.copy(x)\n",
    "\n",
    "        for i in range(n):\n",
    "            soma_antes = np.dot(A[i, :i], x_new[:i])   # valores já atualizados\n",
    "            soma_depois = np.dot(A[i, i+1:], x[i+1:])  # valores antigos\n",
    "            x_new[i] = (b[i] - soma_antes - soma_depois) / A[i, i]\n",
    "\n",
    "        # critério de parada\n",
    "        if np.linalg.norm(x_new - x, ord=np.inf) < tolerance:\n",
    "            return x_new, iteration + 1\n",
    "\n",
    "        x = x_new\n",
    "\n",
    "    return x, max_iterations\n"
   ]
  },
  {
   "cell_type": "markdown",
   "id": "ff6822e8",
   "metadata": {},
   "source": [
    "### Método de Gauss-Jacobi"
   ]
  },
  {
   "cell_type": "code",
   "execution_count": 4,
   "id": "b4eb98a0",
   "metadata": {},
   "outputs": [],
   "source": [
    "def jacobi(A, b, chute_inicial=None, tolerancia=1e-6, max_iteracoes=100):\n",
    "    \"\"\"\n",
    "    Resolve Ax = b pelo método de Jacobi.\n",
    "    \"\"\"\n",
    "    n = len(b)\n",
    "    x = np.zeros_like(b, dtype=float) if chute_inicial is None else chute_inicial.astype(float)\n",
    "\n",
    "    for k in range(max_iteracoes):\n",
    "        x_novo = np.zeros_like(x, dtype=float)\n",
    "\n",
    "        for i in range(n):\n",
    "            soma = 0\n",
    "            for j in range(n):\n",
    "                if j != i:\n",
    "                    soma += A[i][j] * x[j]   # aqui usa APENAS os valores da iteração anterior\n",
    "            x_novo[i] = (b[i] - soma) / A[i][i]\n",
    "\n",
    "        # critério de parada\n",
    "        if np.linalg.norm(x_novo - x, ord=np.inf) < tolerancia:\n",
    "            return x_novo, k + 1\n",
    "\n",
    "        x = x_novo\n",
    "\n",
    "    return x, max_iteracoes\n"
   ]
  },
  {
   "cell_type": "markdown",
   "id": "12385642",
   "metadata": {},
   "source": [
    "---"
   ]
  },
  {
   "cell_type": "markdown",
   "id": "f7167e3a",
   "metadata": {},
   "source": [
    "## Parte Prática"
   ]
  },
  {
   "cell_type": "markdown",
   "id": "b8654799",
   "metadata": {},
   "source": [
    "!!! O principal objetivo da parte prática, será a resolução e a compreensão de sistemas lineares usando os métodos de Gauss-Seidel e de Jacobi"
   ]
  },
  {
   "cell_type": "markdown",
   "id": "ca872349",
   "metadata": {},
   "source": [
    "Abaixo, terá para vocês, o sistema no formato matricial e no formato clássico de um sistema. Ambas as formas podem ser usadas para representar um sistema de Equação!"
   ]
  },
  {
   "cell_type": "code",
   "execution_count": 5,
   "id": "4586ffbf",
   "metadata": {},
   "outputs": [
    {
     "name": "stdout",
     "output_type": "stream",
     "text": [
      " X  Y  Z  =\n",
      " 4  1  2  4\n",
      " 3  5  1  7\n",
      " 1  1  3  3\n"
     ]
    }
   ],
   "source": [
    "# Saida na forma Matricial\n",
    "A = [\n",
    "    [4,1,2],\n",
    "    [3,5,1],\n",
    "    [1,1,3]\n",
    "]\n",
    "b = [4,7,3]\n",
    "\n",
    "df = pd.DataFrame(A, columns=[\"X\", \"Y\", \"Z\"])\n",
    "df[\"=\"] = b\n",
    "print(df.to_string(index=False))"
   ]
  },
  {
   "cell_type": "code",
   "execution_count": 6,
   "id": "7c20eab3",
   "metadata": {},
   "outputs": [
    {
     "name": "stdout",
     "output_type": "stream",
     "text": [
      "\n",
      "⎧ 4x + y + 2z = 4\n",
      "⎨ 3x + 5y + z = 7\n",
      "⎩ x + y + 3z = 3\n",
      "\n"
     ]
    }
   ],
   "source": [
    "sistema = f\"\"\"\n",
    "⎧ 4x + y + 2z = 4\n",
    "⎨ 3x + 5y + z = 7\n",
    "⎩ x + y + 3z = 3\n",
    "\"\"\"\n",
    "print(sistema)\n"
   ]
  },
  {
   "cell_type": "markdown",
   "id": "c2066ce8",
   "metadata": {},
   "source": [
    "---"
   ]
  },
  {
   "cell_type": "markdown",
   "id": "ccfd3123",
   "metadata": {},
   "source": [
    "1-Resolva o sistema acima utilizando o método de Gauss-Seidel até atingir uma precisão de 10^-6:"
   ]
  },
  {
   "cell_type": "code",
   "execution_count": 21,
   "id": "338022c0",
   "metadata": {},
   "outputs": [
    {
     "name": "stdout",
     "output_type": "stream",
     "text": [
      "X = 0.5000\n",
      "Y = 1.0000\n",
      "Z = 0.5000\n",
      "Iteracoes:  11\n"
     ]
    }
   ],
   "source": [
    "#Resolva aqui a questão 1, usando como base, o código fornecido à respeito de método de Gauss-Seidel, fornecido no início do Notebook\n",
    "matriz = np.array(A)\n",
    "result = np.array(b)\n",
    "solution_gs, iteracoes_gs = gauss_seidel_method(matriz, result, tolerance=1e-6)\n",
    "print(f'X = {solution_gs[0]:.4f}')\n",
    "print(f'Y = {solution_gs[1]:.4f}')\n",
    "print(f'Z = {solution_gs[2]:.4f}')\n",
    "    \n",
    "print(\"Iteracoes: \", iteracoes_gs)\n"
   ]
  },
  {
   "cell_type": "markdown",
   "id": "a3cd259b",
   "metadata": {},
   "source": [
    "2- Resolva o mesmo sistema acima, porém utilizando o método de Gauss-Jacobi até atingir uma precisão de 10^-6"
   ]
  },
  {
   "cell_type": "code",
   "execution_count": 23,
   "id": "9f92853c",
   "metadata": {},
   "outputs": [
    {
     "name": "stdout",
     "output_type": "stream",
     "text": [
      "x = 0.500000\n",
      "y = 1.000000\n",
      "z = 0.500000\n",
      "Iterações: 47\n"
     ]
    }
   ],
   "source": [
    "#Resolva aqui a questão 2, usando como base, o código fornecido à respeito de método de Gauss-Jacobi, fornecido no início do Notebook\n",
    "\n",
    "solution_jacobi, iteracoes_jacobi = jacobi(matriz, result, tolerancia=1e-6)\n",
    "\n",
    "print(f\"x = {solution_jacobi[0]:.6f}\")\n",
    "print(f\"y = {solution_jacobi[1]:.6f}\")\n",
    "print(f\"z = {solution_jacobi[2]:.6f}\")\n",
    "print(f\"Iterações: {iteracoes_jacobi}\")"
   ]
  },
  {
   "cell_type": "markdown",
   "id": "19ad5d50",
   "metadata": {},
   "source": [
    "---\n",
    "## Parte Teórica"
   ]
  },
  {
   "cell_type": "markdown",
   "id": "fe9a5b06",
   "metadata": {},
   "source": [
    "1.Explique com suas próprias palavras, a principal diferença entre o método de Jacobi e o método de Gauss-Seidel."
   ]
  },
  {
   "cell_type": "markdown",
   "id": "ef91f214",
   "metadata": {},
   "source": [
    "Resposta:\n"
   ]
  },
  {
   "cell_type": "markdown",
   "id": "a6ef3069",
   "metadata": {},
   "source": [
    "2. O que é uma matriz estritamente diagonalmente dominante? \n",
    "\n",
    "    Explique sua importância para a convergência dos métodos iterativos Jacobi e Gauss-Seidel."
   ]
  },
  {
   "cell_type": "markdown",
   "id": "378216f4",
   "metadata": {},
   "source": [
    "Resposta:  É o valor de cada elemento da diagonal principal for maior que a soma dos outros elementos da mesma linha. Se Todos os valores atender a esse objetivo garante que o metodo de jacobi e gauss seidel vão convergir."
   ]
  },
  {
   "cell_type": "markdown",
   "id": "912a5439",
   "metadata": {},
   "source": [
    "3. Explique com suas próprias palavras a principal diferença entre uma solução exata e uma solução aproximada de um sistema linear."
   ]
  },
  {
   "cell_type": "markdown",
   "id": "18bc73ee",
   "metadata": {},
   "source": [
    "Resposta:   \n",
    "Exata: resultado preciso obtidos por metodos diretos, como por exemplo, eliminação gaussina.\n",
    "\n",
    "Aproximação: Estimativa proxima da solucao obtido por metodos iterativos, usado em sistemas grandes"
   ]
  },
  {
   "cell_type": "markdown",
   "id": "e527b306",
   "metadata": {},
   "source": []
  }
 ],
 "metadata": {
  "kernelspec": {
   "display_name": "m06-K3ZFOi6e-py3.13",
   "language": "python",
   "name": "python3"
  },
  "language_info": {
   "codemirror_mode": {
    "name": "ipython",
    "version": 3
   },
   "file_extension": ".py",
   "mimetype": "text/x-python",
   "name": "python",
   "nbconvert_exporter": "python",
   "pygments_lexer": "ipython3",
   "version": "3.13.3"
  }
 },
 "nbformat": 4,
 "nbformat_minor": 5
}
