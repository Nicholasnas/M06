{
 "cells": [
  {
   "cell_type": "code",
   "execution_count": 20,
   "id": "5f74c674",
   "metadata": {},
   "outputs": [
    {
     "data": {
      "text/plain": [
       "5002"
      ]
     },
     "execution_count": 20,
     "metadata": {},
     "output_type": "execute_result"
    }
   ],
   "source": [
    "import pandas as pd\n",
    "import sqlalchemy\n",
    "\n",
    "\n",
    "df = pd.read_csv('points_tmw.csv')\n",
    "\n",
    "df.head()\n",
    "\n",
    "engine = sqlalchemy.create_engine('sqlite:///data/tmw.db')\n",
    "df.to_sql('points', engine, if_exists='replace', index=False)\n"
   ]
  },
  {
   "cell_type": "code",
   "execution_count": null,
   "id": "29f9b16a",
   "metadata": {},
   "outputs": [
    {
     "name": "stdout",
     "output_type": "stream",
     "text": [
      "                                            idTransacao  Freq.Abs.Acumulada  \\\n",
      "descProduto                                                                   \n",
      "Airflow Lover                                         1                   1   \n",
      "ChatMessage                                        4141                4142   \n",
      "Churn_10pp                                           31                4173   \n",
      "Churn_2pp                                            36                4209   \n",
      "Churn_5pp                                            32                4241   \n",
      "Daily Loot                                           18                4259   \n",
      "Lista de presença                                   642                4901   \n",
      "Presença Streak                                      33                4934   \n",
      "Resgatar Ponei                                       32                4966   \n",
      "Troca de Pontos StreamElements                       28                4994   \n",
      "Venda de Item: 7 - Capacete de Ferro (400)            6                5000   \n",
      "\n",
      "                                            Freq.Relativa  \\\n",
      "descProduto                                                 \n",
      "Airflow Lover                                      0.0002   \n",
      "ChatMessage                                        0.8282   \n",
      "Churn_10pp                                         0.0062   \n",
      "Churn_2pp                                          0.0072   \n",
      "Churn_5pp                                          0.0064   \n",
      "Daily Loot                                         0.0036   \n",
      "Lista de presença                                  0.1284   \n",
      "Presença Streak                                    0.0066   \n",
      "Resgatar Ponei                                     0.0064   \n",
      "Troca de Pontos StreamElements                     0.0056   \n",
      "Venda de Item: 7 - Capacete de Ferro (400)         0.0012   \n",
      "\n",
      "                                            Freq.Relativa.Acumulada  \n",
      "descProduto                                                          \n",
      "Airflow Lover                                                0.0002  \n",
      "ChatMessage                                                  0.8284  \n",
      "Churn_10pp                                                   0.8346  \n",
      "Churn_2pp                                                    0.8418  \n",
      "Churn_5pp                                                    0.8482  \n",
      "Daily Loot                                                   0.8518  \n",
      "Lista de presença                                            0.9802  \n",
      "Presença Streak                                              0.9868  \n",
      "Resgatar Ponei                                               0.9932  \n",
      "Troca de Pontos StreamElements                               0.9988  \n",
      "Venda de Item: 7 - Capacete de Ferro (400)                   1.0000  \n"
     ]
    }
   ],
   "source": [
    " # Agrupando por produto e contando transação por produto\n",
    "freq_produto = df.groupby(['descProduto'])[['idTransacao']].count() ## retorna um dateframe\n",
    "# cumsum() - soma de todos os valores de cada coluna\n",
    "# soma acumulativa de cada linha\n",
    "freq_produto['Freq.Abs.Acumulada'] = freq_produto['idTransacao'].cumsum()\n",
    "freq_produto['Freq.Relativa'] = freq_produto['idTransacao'] / freq_produto['idTransacao'].sum()\n",
    "freq_produto['Freq.Relativa.Acumulada'] = freq_produto['Freq.Relativa'].cumsum()\n",
    "print(freq_produto)\n",
    "\n"
   ]
  },
  {
   "cell_type": "code",
   "execution_count": null,
   "id": "0354fe8b",
   "metadata": {},
   "outputs": [
    {
     "name": "stdout",
     "output_type": "stream",
     "text": [
      "                      idTransacao  Freq.abs.Acumulada  Freq.abs.relativa  \\\n",
      "descCategoriaProduto                                                       \n",
      "chat                         4141                4141             0.8282   \n",
      "churn_model                    99                4240             0.0198   \n",
      "lovers                          1                4241             0.0002   \n",
      "ponei                          32                4273             0.0064   \n",
      "present                       675                4948             0.1350   \n",
      "rpg                            24                4972             0.0048   \n",
      "streamelements                 28                5000             0.0056   \n",
      "\n",
      "                      Freq.Relativa.Acumulada  \n",
      "descCategoriaProduto                           \n",
      "chat                                   0.8282  \n",
      "churn_model                            0.8480  \n",
      "lovers                                 0.8482  \n",
      "ponei                                  0.8546  \n",
      "present                                0.9896  \n",
      "rpg                                    0.9944  \n",
      "streamelements                         1.0000  \n"
     ]
    }
   ],
   "source": [
    "# Agrupando por desconto de produto e transação- cada produto e contando a quantidade de transacao de cada produto\n",
    "# agrupar por descCategoriaProduto e contar o idTRansação\n",
    "df_desconto = df.groupby(['descCategoriaProduto'])[['idTransacao']].count() # Retornando um dataFrame\n",
    "\n",
    "df_desconto['Freq.abs.Acumulada'] = df_desconto['idTransacao'].cumsum() # acumulada de um determinado valor - soma de toda a coluna linha a linha\n",
    "df_desconto['Freq.abs.relativa'] = df_desconto['idTransacao'] / df_desconto['idTransacao'].sum()\n",
    "df_desconto['Freq.Relativa.Acumulada'] = df_desconto['Freq.abs.relativa'].cumsum()\n",
    "\n",
    "print(df_desconto)"
   ]
  },
  {
   "cell_type": "code",
   "execution_count": null,
   "id": "f1dc27ea",
   "metadata": {},
   "outputs": [],
   "source": [
    " "
   ]
  }
 ],
 "metadata": {
  "kernelspec": {
   "display_name": "Python 3",
   "language": "python",
   "name": "python3"
  },
  "language_info": {
   "codemirror_mode": {
    "name": "ipython",
    "version": 3
   },
   "file_extension": ".py",
   "mimetype": "text/x-python",
   "name": "python",
   "nbconvert_exporter": "python",
   "pygments_lexer": "ipython3",
   "version": "3.13.3"
  }
 },
 "nbformat": 4,
 "nbformat_minor": 5
}
